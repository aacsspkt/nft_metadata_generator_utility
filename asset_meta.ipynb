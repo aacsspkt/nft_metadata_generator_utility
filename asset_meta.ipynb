{
 "cells": [
  {
   "cell_type": "code",
   "execution_count": 1,
   "id": "1398f934",
   "metadata": {},
   "outputs": [],
   "source": [
    "import json"
   ]
  },
  {
   "cell_type": "code",
   "execution_count": 2,
   "id": "00f83f57",
   "metadata": {
    "collapsed": true
   },
   "outputs": [],
   "source": [
    "start = 0\n",
    "# no. of meta data you want to create\n",
    "total_count = 5\n",
    "\n",
    "for i in range(start, start+total_count):\n",
    "    index = \"%04d\"%(i+1)\n",
    "    name = \"\".join([\"Number #\", index])\n",
    "    description = f\"Collection of {total_count} numbers on the blockchain. This is the number {i+1}/{total_count}.\"\n",
    "    image = f\"{i}.png\"\n",
    "    # create meta data\n",
    "    meta_data = {\n",
    "        \"name\": name,\n",
    "        \"symbol\": \"NB\",\n",
    "        \"description\": description,\n",
    "        \"seller_fee_basis_points\": 500,\n",
    "        \"image\": image,\n",
    "        \"attributes\": [\n",
    "            {\"trait_type\": \"Layer-1\", \"value\": index[0]},\n",
    "            {\"trait_type\": \"Layer-2\", \"value\": index[1]},\n",
    "            {\"trait_type\": \"Layer-3\", \"value\": index[2]},\n",
    "            {\"trait_type\": \"Layer-4\", \"value\": index[3]},\n",
    "        ],\n",
    "        \"properties\": {\n",
    "            \"creators\": [{\"address\": \"6j4nNrozTJkk1zatiXHezSLZArnRUq3WkGKHACThXGpZ\", \"share\": 100}],\n",
    "            \"files\": [{\"uri\": image, \"type\": \"image/png\"}]\n",
    "        },\n",
    "        \"collection\": {\"name\": \"numbers\", \"family\": \"numbers\"}\n",
    "    }\n",
    "    # create file\n",
    "    f = open(f\"{i}.json\", 'w')\n",
    "    # write dumped json string of meta data to file\n",
    "    f.write(json.dumps(meta_data))\n",
    "    #close file\n",
    "    f.close()   \n",
    "    "
   ]
  },
  {
   "cell_type": "code",
   "execution_count": null,
   "id": "97a66dfd",
   "metadata": {},
   "outputs": [],
   "source": []
  }
 ],
 "metadata": {
  "kernelspec": {
   "display_name": "Python 3 (ipykernel)",
   "language": "python",
   "name": "python3"
  },
  "language_info": {
   "codemirror_mode": {
    "name": "ipython",
    "version": 3
   },
   "file_extension": ".py",
   "mimetype": "text/x-python",
   "name": "python",
   "nbconvert_exporter": "python",
   "pygments_lexer": "ipython3",
   "version": "3.8.10"
  }
 },
 "nbformat": 4,
 "nbformat_minor": 5
}
